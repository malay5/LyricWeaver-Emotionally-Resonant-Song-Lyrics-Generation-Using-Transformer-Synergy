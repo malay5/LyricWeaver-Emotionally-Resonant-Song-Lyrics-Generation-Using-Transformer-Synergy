{
 "cells": [
  {
   "cell_type": "code",
   "execution_count": 3,
   "id": "502b8df6",
   "metadata": {},
   "outputs": [],
   "source": [
    "from urllib.request import Request, urlopen"
   ]
  },
  {
   "cell_type": "code",
   "execution_count": 10,
   "id": "4edd3121",
   "metadata": {},
   "outputs": [],
   "source": [
    "from bs4 import BeautifulSoup"
   ]
  },
  {
   "cell_type": "code",
   "execution_count": 4,
   "id": "e960e709",
   "metadata": {},
   "outputs": [],
   "source": [
    "headers = {\"User-Agent\": \"Mozilla/5.0 (Windows NT 10.0; Win64; x64)\"}"
   ]
  },
  {
   "cell_type": "code",
   "execution_count": 6,
   "id": "6fcae7ed",
   "metadata": {},
   "outputs": [],
   "source": [
    "final_url=\"https://www.azlyrics.com/lyrics/eminem/noapologies.html\""
   ]
  },
  {
   "cell_type": "code",
   "execution_count": 7,
   "id": "03a98002",
   "metadata": {},
   "outputs": [],
   "source": [
    "req = Request(final_url, headers=headers)"
   ]
  },
  {
   "cell_type": "code",
   "execution_count": 8,
   "id": "23e47c7c",
   "metadata": {},
   "outputs": [],
   "source": [
    "html_page = urlopen(req)"
   ]
  },
  {
   "cell_type": "code",
   "execution_count": 11,
   "id": "9431bbb9",
   "metadata": {},
   "outputs": [],
   "source": [
    "soup = BeautifulSoup(html_page, 'html.parser')"
   ]
  },
  {
   "cell_type": "code",
   "execution_count": 12,
   "id": "109793b6",
   "metadata": {},
   "outputs": [],
   "source": [
    "outer_div = soup.find('div', class_='col-xs-12 col-lg-8 text-center')"
   ]
  },
  {
   "cell_type": "code",
   "execution_count": 13,
   "id": "cbb99315",
   "metadata": {},
   "outputs": [],
   "source": [
    "inner_div_no_class = outer_div.find('div', class_=None)"
   ]
  },
  {
   "cell_type": "code",
   "execution_count": 16,
   "id": "459c0a70",
   "metadata": {},
   "outputs": [
    {
     "data": {
      "text/plain": [
       "\"\\n\\r\\nIn my mind, I'm a fighter, my heart's a lighter\\nMy soul is the fluid, my flow sparks it right up\\nAn arsenic writer, author with arth-r-itis\\nCarpal tunnel, Marshall with Start-Shit-Itis\\nHardheaded and hotheaded, bullheaded and pigheaded\\nDick-headed, a prick, a big headache\\nI'm sick, quick-witted; for every lyric spitted\\nThere are six critics who wait for me to slip with it\\nSo, quick—this dynamite stick, bury the wick\\nIt's gonna explode any minute\\nSome lunatic lit it\\nAnd it's not Nelly, do not tell me to stop yelling\\nWhen I stop selling, I'll quit, so stop dwelling!\\nI am not failing, you fuckers are not ready\\n'Cause I got jelly, like Beyoncé's potbelly\\nThis is destiny; yes, money, I'm off running\\nSo get off of me, I'm not slowing or softening\\n\\nNo apologies! Nah, suckers, I'm not sorry\\nYou can all sue me, y'all could be the cause of me\\nNo apologies! Y'all feeling the force of me\\nNo remorse for me, like there was no recourse for me\\nNah, no apologies! Not even acknowledging you at all\\n'Til I get a call that God's coming\\nNo apologies! Laugh, fuckers, it's all funny\\nI can spit in your face while you're standing across from me\\nNo apologies!\\n\\nMy head hits the pillow, a weeping willow\\nI can't sleep, a pain so deep, it bellows\\nBut these cellos help just to keep me mellow\\nHands on my head, touch knees to elbows\\nI'm hunched over, emotion just flows over\\nThese cold shoulders are both frozen, you don't know me\\nI keep saying it, I can't stress it enough\\nSo keep playing it, and stand next to the subs\\nI choke mics like asphyxiation\\nWhen I'm strangling my own throat masturbating, haha!\\nFuck, yeah, I'm a basket case\\nAnd I'll master this rap shit 'til my ass gets wasted\\n'Til my assassination\\n'Til I'm slain because of some fag's infatuation\\n.44 mag's a fascination\\nA taste for disaster, and if that's the case, then—\\n\\nNo apologies! Nah, suckers, I'm not sorry\\nYou can all sue me, y'all could be the cause of me\\nNo apologies! Y'all feeling the force of me\\nNo remorse for me, like there was no recourse for me\\nNah, no apologies! Not even acknowledging you at all\\n'Til I get a call that God's coming\\nNo apologies! Laugh, fuckers, it's all funny\\nI can spit in your face while you're standing across from me\\nNo apologies!\\n\\nThis song isn't for you, it's for me\\nA true MC, it's what he'll do just to see\\nIf he still has it and if his skills mastered\\nHe's able to spill raps long after he's killed, that's a—\\nReal MC, got you feelin' me\\nWhether willing or unwillingly, you still agree\\nAs long as there's still this hunger and will in me\\nThen expect a longer life expectancy\\nI'd be a savage beast if I ain't had this\\nOutlet to salvage me inside\\nI'd be exploding, soaked in self-loathing\\nAnd mourning, so I'm warning you: don't coax me\\nIt's silly, I'm really a sheep in wolf's clothing\\nWho only reacts when he gets pushed, don't be—\\nFooled; the press blows up this whole thing\\nIt's stupid, they don't know, 'cause they don't see\\nThat I'm wounded, all they did was ballooned it\\nI'm sick of talking 'bout these tattoos Cartoon did\\nThat's why I tuned it out, I'm sick of duking\\nThey can suck my dick while I'm puking\\nAnd you, too, you can—\\n\\nExpect no sympathy from me\\nI'm an MC, this is how I'm supposed to be\\nCold as a G, my heart's frozen\\nIt don't even beat, so expect no apologies\\nExpect no sympathy from me\\nI'm an MC, this is how I'm supposed to be\\nCold as a G, my heart's frozen\\nIt don't even beat, so expect no apologies\\n\""
      ]
     },
     "execution_count": 16,
     "metadata": {},
     "output_type": "execute_result"
    }
   ],
   "source": [
    "inner_div_no_class.get_text(strip=False)"
   ]
  },
  {
   "cell_type": "code",
   "execution_count": null,
   "id": "5b42c02e",
   "metadata": {},
   "outputs": [],
   "source": []
  }
 ],
 "metadata": {
  "kernelspec": {
   "display_name": "Python 3",
   "language": "python",
   "name": "python3"
  },
  "language_info": {
   "codemirror_mode": {
    "name": "ipython",
    "version": 3
   },
   "file_extension": ".py",
   "mimetype": "text/x-python",
   "name": "python",
   "nbconvert_exporter": "python",
   "pygments_lexer": "ipython3",
   "version": "3.8.8"
  }
 },
 "nbformat": 4,
 "nbformat_minor": 5
}
