{
  "nbformat": 4,
  "nbformat_minor": 0,
  "metadata": {
    "colab": {
      "provenance": []
    },
    "kernelspec": {
      "name": "python3",
      "display_name": "Python 3"
    },
    "language_info": {
      "name": "python"
    }
  },
  "cells": [
    {
      "cell_type": "code",
      "execution_count": null,
      "metadata": {
        "colab": {
          "base_uri": "https://localhost:8080/"
        },
        "id": "oLDeZ6UeCuPo",
        "outputId": "f4a9c0ee-b4c9-4e68-9750-3885317364db"
      },
      "outputs": [
        {
          "output_type": "stream",
          "name": "stdout",
          "text": [
            "\u001b[?25l   \u001b[90m━━━━━━━━━━━━━━━━━━━━━━━━━━━━━━━━━━━━━━━━\u001b[0m \u001b[32m0.0/731.3 kB\u001b[0m \u001b[31m?\u001b[0m eta \u001b[36m-:--:--\u001b[0m\r\u001b[2K   \u001b[91m━━━━━━━━━━━━━━━━━━━━\u001b[0m\u001b[90m╺\u001b[0m\u001b[90m━━━━━━━━━━━━━━━━━━━\u001b[0m \u001b[32m368.6/731.3 kB\u001b[0m \u001b[31m10.6 MB/s\u001b[0m eta \u001b[36m0:00:01\u001b[0m\r\u001b[2K   \u001b[90m━━━━━━━━━━━━━━━━━━━━━━━━━━━━━━━━━━━━━━━━\u001b[0m \u001b[32m731.3/731.3 kB\u001b[0m \u001b[31m10.3 MB/s\u001b[0m eta \u001b[36m0:00:00\u001b[0m\n",
            "\u001b[?25h"
          ]
        }
      ],
      "source": [
        "!pip install -q -U keras-nlp\n",
        "!pip install -q -U keras>=3\n",
        "!pip install -q -U kagglehub --upgrade"
      ]
    },
    {
      "cell_type": "code",
      "source": [
        "import os\n",
        "os.environ[\"KERAS_BACKEND\"] = \"jax\" # you can also use tensorflow or torch\n",
        "os.environ[\"XLA_PYTHON_CLIENT_MEM_FRACTION\"] = \"1.00\" # avoid memory fragmentation on JAX backend.\n",
        "os.environ[\"JAX_PLATFORMS\"] = \"\"\n",
        "import keras\n",
        "import keras_nlp\n",
        "import kagglehub"
      ],
      "metadata": {
        "id": "58K6RqphDbKP"
      },
      "execution_count": null,
      "outputs": []
    },
    {
      "cell_type": "code",
      "source": [
        "from google.colab import drive\n"
      ],
      "metadata": {
        "id": "3On-HYOvEJsp"
      },
      "execution_count": null,
      "outputs": []
    },
    {
      "cell_type": "code",
      "source": [
        "drive.mount('/content/drive',force_remount=True)"
      ],
      "metadata": {
        "colab": {
          "base_uri": "https://localhost:8080/"
        },
        "id": "yCo-qM3ZEOD0",
        "outputId": "bf103496-7dfe-4dd9-f5e6-ef14984ffb71"
      },
      "execution_count": null,
      "outputs": [
        {
          "output_type": "stream",
          "name": "stdout",
          "text": [
            "Mounted at /content/drive\n"
          ]
        }
      ]
    },
    {
      "cell_type": "code",
      "source": [],
      "metadata": {
        "id": "QtZbCXPiD4qt"
      },
      "execution_count": null,
      "outputs": []
    },
    {
      "cell_type": "code",
      "source": [
        "gemma_causal_lm = keras.models.load_model(\"/content/drive/MyDrive/iiith inlp project/Copy of gpt_2_kaggle_data.keras\")\n"
      ],
      "metadata": {
        "colab": {
          "base_uri": "https://localhost:8080/"
        },
        "id": "6yVKBcjSC19U",
        "outputId": "7303b7b2-610b-444e-b1c2-9a00feeded2d"
      },
      "execution_count": null,
      "outputs": [
        {
          "output_type": "stream",
          "name": "stderr",
          "text": [
            "/usr/local/lib/python3.11/dist-packages/keras/src/saving/serialization_lib.py:734: UserWarning: `compile()` was not called as part of model loading because the model's `compile()` method is custom. All subclassed Models that have `compile()` overridden should also override `get_compile_config()` and `compile_from_config(config)`. Alternatively, you can call `compile()` manually after loading.\n",
            "  instance.compile_from_config(compile_config)\n",
            "/usr/local/lib/python3.11/dist-packages/keras/src/saving/saving_lib.py:757: UserWarning: Skipping variable loading for optimizer 'adam', because it has 2 variables whereas the saved optimizer has 394 variables. \n",
            "  saveable.load_own_variables(weights_store.get(inner_path))\n"
          ]
        }
      ]
    },
    {
      "cell_type": "code",
      "source": [
        "template = \"\\n\\nGive me a song in style of artist {Artist}\\n\\n\\nSong:\\n{Song}\"\n"
      ],
      "metadata": {
        "id": "eF1oGG-CGYNh"
      },
      "execution_count": null,
      "outputs": []
    },
    {
      "cell_type": "code",
      "source": [
        "class GemmaQA:\n",
        "    def __init__(self, max_length=512):\n",
        "        self.max_length = max_length\n",
        "        self.prompt = template\n",
        "        self.gemma_causal_lm = gemma_causal_lm\n",
        "\n",
        "    def query(self, artist):\n",
        "        response = self.gemma_causal_lm.generate(\n",
        "            self.prompt.format(\n",
        "                Artist=artist,\n",
        "                # Question=question,\n",
        "                Song=\"\"),\n",
        "            max_length=self.max_length)\n",
        "        display(Markdown(colorize_text(response)))"
      ],
      "metadata": {
        "id": "xSRyTDTsGazE"
      },
      "execution_count": null,
      "outputs": []
    },
    {
      "cell_type": "code",
      "source": [
        "from IPython.display import display, Markdown"
      ],
      "metadata": {
        "id": "-bQ23IB5I4Ug"
      },
      "execution_count": null,
      "outputs": []
    },
    {
      "cell_type": "code",
      "source": [
        "def colorize_text(text):\n",
        "    for word, color in zip([\"Category\", \"Question\", \"Answer\"], [\"blue\", \"red\", \"green\"]):\n",
        "        text = text.replace(f\"\\n\\n{word}:\", f\"\\n\\n**<font color='{color}'>{word}:</font>**\")\n",
        "    return text"
      ],
      "metadata": {
        "id": "IyshCY6WJA1l"
      },
      "execution_count": null,
      "outputs": []
    },
    {
      "cell_type": "code",
      "source": [
        "gemma_qa = GemmaQA()"
      ],
      "metadata": {
        "id": "vDo2UPYZGQNu"
      },
      "execution_count": null,
      "outputs": []
    },
    {
      "cell_type": "code",
      "source": [
        "gemma_qa.query(\"Ariana Grande\")"
      ],
      "metadata": {
        "colab": {
          "base_uri": "https://localhost:8080/",
          "height": 191
        },
        "id": "yfEjg6JHDaDK",
        "outputId": "0945be30-9f06-4964-d08b-824df9e81f62"
      },
      "execution_count": null,
      "outputs": [
        {
          "output_type": "display_data",
          "data": {
            "text/plain": [
              "<IPython.core.display.Markdown object>"
            ],
            "text/markdown": "\n\nGive me a song in style of artist Ariana Grande\n\n\nSong:\ni'm so sick of running as fast as i can wondering if i'd get there quicker if i was a man and i'm so sick of them coming at me again 'cause if i was a man then i'd be the man i'd be the man yeah cause if i was a man then i'd be the man yeah cause if i was a man then i'd be the man i'd be the man yeah   i'm so sick of them coming at me again 'cause if i was a man then i'd be the man i'd be the man yeah cause if i was a man then i'd be the man i'd be the man yeah   you'd be the man in my city if you knew how to rob and you knew if i was a robber then you were the boss and i was a robber and you knew that i was a robber and you knew that i was a robber and you knew that i was a robber and you knew if i was a robber then you were the boss and i was a robber and you knew that i was a robber too so you were the boss and i was a robber and you knew that i was a robber and you knew that i was a robber and you knew that i was a robber and you knew that i was a robber and you knew that i was a robber   you'd be the taylor when i was fifteen and suddenly i was fifteen my mother went to work and i was the captain and i was the princess it's just the way it's supposed to be when i was fifteen and suddenly when i was fifteen i had that little little little car drive i'd've had it thinking 'bout tril"
          },
          "metadata": {}
        }
      ]
    },
    {
      "cell_type": "code",
      "source": [
        "gemma_qa.query(\"Eminem\")"
      ],
      "metadata": {
        "colab": {
          "base_uri": "https://localhost:8080/",
          "height": 191
        },
        "id": "u4ub8KUcGOqj",
        "outputId": "1abe91f3-ad39-41ee-8b5a-1330df9ad0e7"
      },
      "execution_count": null,
      "outputs": [
        {
          "output_type": "display_data",
          "data": {
            "text/plain": [
              "<IPython.core.display.Markdown object>"
            ],
            "text/markdown": "\n\nGive me a song in style of artist Eminem\n\n\nSong:\neminem  dr dre no it's not your fault sire you had me at fault but who's the blame for me couldn't see it coming or it's not my fault you didn't and it's not my fault i was reckless and there's no innocent one who ever did you wrong and it's not my fault it's not my fault   dr dre dr dre is it all my fault that you made me feel like all that you wanted was a perfect illusion perfect illusion   eminem now i'm crying and no one can do you like i do and it's not my fault no one who ever lied didn't leave me feeling like i did  pre eminem now i'm in the middle of the road in my crying house and you're right there in my old faded love with the sound of me down my rabbit hole i don't care i almost got my heart broken but who's the blame for me couldn't see it coming or it's not my fault i was reckless and there's no innocent one who ever did you wrong and it's not my fault it's not my fault   dr dre dr dre is it all my fault that you made me feel like all that you wanted was a perfect illusion perfect illusion   eminem this is a guest page from our last night on the blog and it's so damn crowded and crowded crowded but i still see you there and you're yelling and no one will do you like i do and it's not my fault my fault   dr dre dr dre is it all my fault that you made me feel like all that you wanted was a perfect illusion perfect illusion"
          },
          "metadata": {}
        }
      ]
    },
    {
      "cell_type": "code",
      "source": [
        "gemma_qa.query(\"Coldplay\")"
      ],
      "metadata": {
        "colab": {
          "base_uri": "https://localhost:8080/",
          "height": 209
        },
        "id": "G6HpMd5EJVD2",
        "outputId": "dc129b14-bd1e-40a3-8da9-9b58a048d63f"
      },
      "execution_count": null,
      "outputs": [
        {
          "output_type": "display_data",
          "data": {
            "text/plain": [
              "<IPython.core.display.Markdown object>"
            ],
            "text/markdown": "\n\nGive me a song in style of artist Coldplay\n\n\nSong:\ni'm not the kind of girl who should be rudely barging in on a white veil occasion but you are not the kind of boy who should be marrying the wrong girl   i sneak in and see your friends and her snotty little family all dressed in pastel and she is yelling at a bridesmaid somewhere back inside a room wearing a gown shaped like a pastry  pre this is surely not what you thought it would be i lose myself in a daydream where i stand and say   don't say yes run away now i'll meet you when you're out of the church at the back door don't wait or say a single vow your silence is my choice and this is how i know you will be great anyway   fond gestures are exchanged and the organ starts to play a song that sounds like a death march and i am hiding in the curtains it seems that i was uninvited by your lovely bridetobe  pre she floats down the aisle like a pageant queen but i know you wish it was me you wish it was me don't you   don't say yes run away now i'll meet you when you're out of the church at the back door don't wait or say a single vow your silence is my choice and this is how i know you will be great anyway  interlude ooh ladadada oh ooh yeah ooh ooh yeah   don't say yes run away now i'll meet you when you're out of the church at the back door don't wait or say a single vow your silence is my choice and this is how i know you will be great anyway   and this is how i know you will be "
          },
          "metadata": {}
        }
      ]
    },
    {
      "cell_type": "code",
      "source": [
        "gemma_qa.query(\"Katy Perry\")"
      ],
      "metadata": {
        "colab": {
          "base_uri": "https://localhost:8080/",
          "height": 70
        },
        "id": "p-c4ou0HJYlT",
        "outputId": "6996a416-c64b-44f5-9499-4e5bf07505de"
      },
      "execution_count": null,
      "outputs": [
        {
          "output_type": "display_data",
          "data": {
            "text/plain": [
              "<IPython.core.display.Markdown object>"
            ],
            "text/markdown": "\n\nGive me a song in style of artist Katy Perry\n\n\nSong:\nlyrics for this song have yet to be released please check back once the song has been released"
          },
          "metadata": {}
        }
      ]
    },
    {
      "cell_type": "code",
      "source": [
        "gemma_qa.query(\"Ed Sheeran\")"
      ],
      "metadata": {
        "colab": {
          "base_uri": "https://localhost:8080/",
          "height": 191
        },
        "id": "bIuEUD-tJd0e",
        "outputId": "59f968e4-9f24-41f3-ae87-e29a1fb1a4b1"
      },
      "execution_count": null,
      "outputs": [
        {
          "output_type": "display_data",
          "data": {
            "text/plain": [
              "<IPython.core.display.Markdown object>"
            ],
            "text/markdown": "\n\nGive me a song in style of artist Ed Sheeran\n\n\nSong:\nwhen your day is long and the night the clouds are crying i hope you understand it's not me to be the heart of the other we are one buzzing ong and the night's dark but i hope you understand it's me you're the love that we share and baby it'll save you  when your day is long and the night's dark you know i hope you understand it's not me to be the heart of the other we are one buzzingong and the night's dark but i hope you understand it's not me to be the heart of the other we are one buzzingong and the night's dark but i hope you understand  my favorite days are still waiting come back to your breath and you'll be in my bed when the night ends when you're home there's always a little part of me that you will miss  and when your day is long and the night's dark you know i hope you understand it's not me to be the heart of the other we are one buzzingong and the night's dark but i hope you understand it's not me to be the heart of the other we are one buzzingong and the night's dark but i hope you understand it's not me to be the heart of the other we are one buzzingong and the night's dark but i hope you understand it's not me to be the heart of the other we are one buzzingong and the night's dark but i hope you understand now"
          },
          "metadata": {}
        }
      ]
    },
    {
      "cell_type": "code",
      "source": [
        "gemma_qa.query(\"Taylor Swift\")"
      ],
      "metadata": {
        "colab": {
          "base_uri": "https://localhost:8080/",
          "height": 209
        },
        "id": "ewAbZc_hKVYH",
        "outputId": "2f7da683-b9b3-4301-bf62-0bcf0af6e656"
      },
      "execution_count": null,
      "outputs": [
        {
          "output_type": "display_data",
          "data": {
            "text/plain": [
              "<IPython.core.display.Markdown object>"
            ],
            "text/markdown": "\n\nGive me a song in style of artist Taylor Swift\n\n\nSong:\ni like the way you wanted me every night for so long baby i like the way you needed me every night the way the way the way you needed me every time the way the way you needed me   i like your style in your jeans your words the way you smile the way you make me feel and i like it off again 'cause boy you're just a different girl when you're mine   i like that you had your chance to make me want you every night and you wouldn't believe me if i was wrong and i was wrong but baby don't make me this way again i'd never let you go again i'd never let you go again   you were wrong but baby i like the way you'd hold me every night and baby i like the way you'd make me feel and i like it off again i used to think your love was real and i still love you baby i like the way you'd give me every time you needed me every time the way the way you needed me   i like your style in your jeans your words the way you smile the way you make me feel and i like it off again 'cause boy you're just a different girl when you're mine   you had your chance to make me want you every night and you wouldn't believe me if i was wrong and i was wrong but baby don't make me this way again i'd never let you go again again i'd never let you go again  i like your style in your jeans your words the way you look at me when you're mine   i like your body your body your body and all i like 'cause you had your chance to make "
          },
          "metadata": {}
        }
      ]
    },
    {
      "cell_type": "code",
      "source": [
        "gemma_qa.query(\"Selena Gomez\")"
      ],
      "metadata": {
        "colab": {
          "base_uri": "https://localhost:8080/",
          "height": 226
        },
        "id": "IwTbn-p5KaQF",
        "outputId": "960ad488-6ba3-4aa9-e0e3-6c086b3d2327"
      },
      "execution_count": null,
      "outputs": [
        {
          "output_type": "display_data",
          "data": {
            "text/plain": [
              "<IPython.core.display.Markdown object>"
            ],
            "text/markdown": "\n\nGive me a song in style of artist Selena Gomez\n\n\nSong:\nselena gomez take away your things and go you can't take back what you said i know i've heard it all before at least a million times i'm not one to forget you know  pre  selena gomez i don't believe i don't believe it you left in peace left me in pieces too hard to breathe i'm on my knees right now   selena gomez with charli xcx im so sick of that same old love that shit it tears me up im so sick of that same old love the kind that breaks your heart ohoh that same old love ohoh that same old love im so sick of that same old love feels like i've blown apartup boy im so sick of that same old love the kind that breaks your heart ohoh that same old love im so sick of that same old love the kind that breaks your heart ohoh that same old love im so sick of that same old love feels like i've blown apartup boy im so sick of that same old love the kind that breaks your heart ohoh that same old love   selena gomez i'm not spending any time wasting tonight on you i know i've heard it all so don't you try and change your mind cause i won't be changing too you know  pre  selena gomez you can't believe still can't believe it you left in peace left me in pieces too hard to breathe i'm on my knees right now 'ow   selena gomez with charli xcx im so sick of that same old love that shit it tears me up im so sick of that same old love the kind that breaks your heart ohoh that same old love im so sick of that same old love feels like i've blown apart im so sick of that same old love the kind that breaks your heart ohoh that halo that "
          },
          "metadata": {}
        }
      ]
    },
    {
      "cell_type": "code",
      "source": [
        "gemma_qa.query(\"Charlie Puth\")"
      ],
      "metadata": {
        "colab": {
          "base_uri": "https://localhost:8080/",
          "height": 156
        },
        "id": "0_KxkcLlKclB",
        "outputId": "daf0a775-1300-4046-9290-cc15ea9aaf3e"
      },
      "execution_count": null,
      "outputs": [
        {
          "output_type": "display_data",
          "data": {
            "text/plain": [
              "<IPython.core.display.Markdown object>"
            ],
            "text/markdown": "\n\nGive me a song in style of artist Charlie Puth\n\n\nSong:\noh darling i know you miss your smile always ending up in his arms around you you know it's always laughing and loving you and i guess i'm a fool who's willing to sit around and wait for you but baby don't mind   we never said goodbye so i'll just walk away when you're out of the woods i never told you about me but baby don't mind   you say it's over and we're taking our time taking our time and i say babe never again   we never said goodbye so i'll just walk away when you're out of the woods i never told you about me but baby don't mind we never said goodbye so i'll just walk away walk away walk away   it was a long time coming 'round and 'round i was thinking 'bout you when i saw you there but baby don't mind   we never said goodbye so i'll just walk away when you're out of the woods i never told you about me but baby don't mind we never said goodbye so i'll just walk away walk away walk away"
          },
          "metadata": {}
        }
      ]
    },
    {
      "cell_type": "code",
      "source": [],
      "metadata": {
        "id": "35Wbq_xsMe05"
      },
      "execution_count": null,
      "outputs": []
    }
  ]
}
