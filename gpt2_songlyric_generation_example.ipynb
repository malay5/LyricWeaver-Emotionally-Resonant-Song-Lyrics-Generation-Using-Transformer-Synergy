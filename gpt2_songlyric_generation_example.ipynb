{
  "nbformat": 4,
  "nbformat_minor": 0,
  "metadata": {
    "colab": {
      "provenance": []
    },
    "kernelspec": {
      "name": "python3",
      "display_name": "Python 3"
    },
    "language_info": {
      "name": "python"
    }
  },
  "cells": [
    {
      "cell_type": "code",
      "execution_count": null,
      "metadata": {
        "colab": {
          "base_uri": "https://localhost:8080/"
        },
        "id": "oLDeZ6UeCuPo",
        "outputId": "f4a9c0ee-b4c9-4e68-9750-3885317364db"
      },
      "outputs": [
        {
          "output_type": "stream",
          "name": "stdout",
          "text": [
            "\u001b[?25l   \u001b[90m━━━━━━━━━━━━━━━━━━━━━━━━━━━━━━━━━━━━━━━━\u001b[0m \u001b[32m0.0/731.3 kB\u001b[0m \u001b[31m?\u001b[0m eta \u001b[36m-:--:--\u001b[0m\r\u001b[2K   \u001b[91m━━━━━━━━━━━━━━━━━━━━\u001b[0m\u001b[90m╺\u001b[0m\u001b[90m━━━━━━━━━━━━━━━━━━━\u001b[0m \u001b[32m368.6/731.3 kB\u001b[0m \u001b[31m10.6 MB/s\u001b[0m eta \u001b[36m0:00:01\u001b[0m\r\u001b[2K   \u001b[90m━━━━━━━━━━━━━━━━━━━━━━━━━━━━━━━━━━━━━━━━\u001b[0m \u001b[32m731.3/731.3 kB\u001b[0m \u001b[31m10.3 MB/s\u001b[0m eta \u001b[36m0:00:00\u001b[0m\n",
            "\u001b[?25h"
          ]
        }
      ],
      "source": [
        "!pip install -q -U keras-nlp\n",
        "!pip install -q -U keras>=3\n",
        "!pip install -q -U kagglehub --upgrade"
      ]
    },
    {
      "cell_type": "code",
      "source": [
        "import os\n",
        "os.environ[\"KERAS_BACKEND\"] = \"jax\" # you can also use tensorflow or torch\n",
        "os.environ[\"XLA_PYTHON_CLIENT_MEM_FRACTION\"] = \"1.00\" # avoid memory fragmentation on JAX backend.\n",
        "os.environ[\"JAX_PLATFORMS\"] = \"\"\n",
        "import keras\n",
        "import keras_nlp\n",
        "import kagglehub"
      ],
      "metadata": {
        "id": "58K6RqphDbKP"
      },
      "execution_count": null,
      "outputs": []
    },
    {
      "cell_type": "code",
      "source": [
        "from google.colab import drive\n"
      ],
      "metadata": {
        "id": "3On-HYOvEJsp"
      },
      "execution_count": null,
      "outputs": []
    },
    {
      "cell_type": "code",
      "source": [
        "drive.mount('/content/drive',force_remount=True)"
      ],
      "metadata": {
        "colab": {
          "base_uri": "https://localhost:8080/"
        },
        "id": "yCo-qM3ZEOD0",
        "outputId": "bf103496-7dfe-4dd9-f5e6-ef14984ffb71"
      },
      "execution_count": null,
      "outputs": [
        {
          "output_type": "stream",
          "name": "stdout",
          "text": [
            "Mounted at /content/drive\n"
          ]
        }
      ]
    },
    {
      "cell_type": "code",
      "source": [],
      "metadata": {
        "id": "QtZbCXPiD4qt"
      },
      "execution_count": null,
      "outputs": []
    },
    {
      "cell_type": "code",
      "source": [
        "gemma_causal_lm = keras.models.load_model(\"/content/drive/MyDrive/iiith inlp project/Copy of gpt_2_kaggle_data.keras\")\n"
      ],
      "metadata": {
        "colab": {
          "base_uri": "https://localhost:8080/"
        },
        "id": "6yVKBcjSC19U",
        "outputId": "7303b7b2-610b-444e-b1c2-9a00feeded2d"
      },
      "execution_count": null,
      "outputs": [
        {
          "output_type": "stream",
          "name": "stderr",
          "text": [
            "/usr/local/lib/python3.11/dist-packages/keras/src/saving/serialization_lib.py:734: UserWarning: `compile()` was not called as part of model loading because the model's `compile()` method is custom. All subclassed Models that have `compile()` overridden should also override `get_compile_config()` and `compile_from_config(config)`. Alternatively, you can call `compile()` manually after loading.\n",
            "  instance.compile_from_config(compile_config)\n",
            "/usr/local/lib/python3.11/dist-packages/keras/src/saving/saving_lib.py:757: UserWarning: Skipping variable loading for optimizer 'adam', because it has 2 variables whereas the saved optimizer has 394 variables. \n",
            "  saveable.load_own_variables(weights_store.get(inner_path))\n"
          ]
        }
      ]
    },
    {
      "cell_type": "code",
      "source": [
        "template = \"\\n\\nGive me a song in style of artist {Artist}\\n\\n\\nSong:\\n{Song}\"\n"
      ],
      "metadata": {
        "id": "eF1oGG-CGYNh"
      },
      "execution_count": null,
      "outputs": []
    },
    {
      "cell_type": "code",
      "source": [
        "class GemmaQA:\n",
        "    def __init__(self, max_length=512):\n",
        "        self.max_length = max_length\n",
        "        self.prompt = template\n",
        "        self.gemma_causal_lm = gemma_causal_lm\n",
        "\n",
        "    def query(self, artist):\n",
        "        response = self.gemma_causal_lm.generate(\n",
        "            self.prompt.format(\n",
        "                Artist=artist,\n",
        "                # Question=question,\n",
        "                Song=\"\"),\n",
        "            max_length=self.max_length)\n",
        "        display(Markdown(colorize_text(response)))"
      ],
      "metadata": {
        "id": "xSRyTDTsGazE"
      },
      "execution_count": null,
      "outputs": []
    },
    {
      "cell_type": "code",
      "source": [
        "from IPython.display import display, Markdown"
      ],
      "metadata": {
        "id": "-bQ23IB5I4Ug"
      },
      "execution_count": null,
      "outputs": []
    },
    {
      "cell_type": "code",
      "source": [
        "def colorize_text(text):\n",
        "    for word, color in zip([\"Category\", \"Question\", \"Answer\"], [\"blue\", \"red\", \"green\"]):\n",
        "        text = text.replace(f\"\\n\\n{word}:\", f\"\\n\\n**<font color='{color}'>{word}:</font>**\")\n",
        "    return text"
      ],
      "metadata": {
        "id": "IyshCY6WJA1l"
      },
      "execution_count": null,
      "outputs": []
    },
    {
      "cell_type": "code",
      "source": [
        "gemma_qa = GemmaQA()"
      ],
      "metadata": {
        "id": "vDo2UPYZGQNu"
      },
      "execution_count": null,
      "outputs": []
    },
    {
      "cell_type": "code",
      "source": [
        "gemma_qa.query(\"Ariana Grande\")"
      ],
      "metadata": {
        "colab": {
          "base_uri": "https://localhost:8080/",
          "height": 191
        },
        "id": "yfEjg6JHDaDK",
        "outputId": "0945be30-9f06-4964-d08b-824df9e81f62"
      },
      "execution_count": null,
      "outputs": [
        {
          "output_type": "display_data",
          "data": {
            "text/plain": [
              "<IPython.core.display.Markdown object>"
            ],
            "text/markdown": "\n\nGive me a song in style of artist Ariana Grande\n\n\nSong:\ni'm so sick of running as fast as i can wondering if i'd get there quicker if i was a man and i'm so sick of them coming at me again 'cause if i was a man then i'd be the man i'd be the man yeah cause if i was a man then i'd be the man yeah cause if i was a man then i'd be the man i'd be the man yeah   i'm so sick of them coming at me again 'cause if i was a man then i'd be the man i'd be the man yeah cause if i was a man then i'd be the man i'd be the man yeah   you'd be the man in my city if you knew how to rob and you knew if i was a robber then you were the boss and i was a robber and you knew that i was a robber and you knew that i was a robber and you knew that i was a robber and you knew if i was a robber then you were the boss and i was a robber and you knew that i was a robber too so you were the boss and i was a robber and you knew that i was a robber and you knew that i was a robber and you knew that i was a robber and you knew that i was a robber and you knew that i was a robber   you'd be the taylor when i was fifteen and suddenly i was fifteen my mother went to work and i was the captain and i was the princess it's just the way it's supposed to be when i was fifteen and suddenly when i was fifteen i had that little little little car drive i'd've had it thinking 'bout tril"
          },
          "metadata": {}
        }
      ]
    },
    {
      "cell_type": "code",
      "source": [
        "gemma_qa.query(\"Eminem\")"
      ],
      "metadata": {
        "colab": {
          "base_uri": "https://localhost:8080/",
          "height": 191
        },
        "id": "u4ub8KUcGOqj",
        "outputId": "1abe91f3-ad39-41ee-8b5a-1330df9ad0e7"
      },
      "execution_count": null,
      "outputs": [
        {
          "output_type": "display_data",
          "data": {
            "text/plain": [
              "<IPython.core.display.Markdown object>"
            ],
            "text/markdown": "\n\nGive me a song in style of artist Eminem\n\n\nSong:\neminem  dr dre no it's not your fault sire you had me at fault but who's the blame for me couldn't see it coming or it's not my fault you didn't and it's not my fault i was reckless and there's no innocent one who ever did you wrong and it's not my fault it's not my fault   dr dre dr dre is it all my fault that you made me feel like all that you wanted was a perfect illusion perfect illusion   eminem now i'm crying and no one can do you like i do and it's not my fault no one who ever lied didn't leave me feeling like i did  pre eminem now i'm in the middle of the road in my crying house and you're right there in my old faded love with the sound of me down my rabbit hole i don't care i almost got my heart broken but who's the blame for me couldn't see it coming or it's not my fault i was reckless and there's no innocent one who ever did you wrong and it's not my fault it's not my fault   dr dre dr dre is it all my fault that you made me feel like all that you wanted was a perfect illusion perfect illusion   eminem this is a guest page from our last night on the blog and it's so damn crowded and crowded crowded but i still see you there and you're yelling and no one will do you like i do and it's not my fault my fault   dr dre dr dre is it all my fault that you made me feel like all that you wanted was a perfect illusion perfect illusion"
          },
          "metadata": {}
        }
      ]
    },
    {
      "cell_type": "code",
      "source": [
        "gemma_qa.query(\"Coldplay\")"
      ],
      "metadata": {
        "colab": {
          "base_uri": "https://localhost:8080/",
          "height": 209
        },
        "id": "G6HpMd5EJVD2",
        "outputId": "dc129b14-bd1e-40a3-8da9-9b58a048d63f"
      },
      "execution_count": null,
      "outputs": [
        {
          "output_type": "display_data",
          "data": {
            "text/plain": [
              "<IPython.core.display.Markdown object>"
            ],
            "text/markdown": "\n\nGive me a song in style of artist Coldplay\n\n\nSong:\ni'm not the kind of girl who should be rudely barging in on a white veil occasion but you are not the kind of boy who should be marrying the wrong girl   i sneak in and see your friends and her snotty little family all dressed in pastel and she is yelling at a bridesmaid somewhere back inside a room wearing a gown shaped like a pastry  pre this is surely not what you thought it would be i lose myself in a daydream where i stand and say   don't say yes run away now i'll meet you when you're out of the church at the back door don't wait or say a single vow your silence is my choice and this is how i know you will be great anyway   fond gestures are exchanged and the organ starts to play a song that sounds like a death march and i am hiding in the curtains it seems that i was uninvited by your lovely bridetobe  pre she floats down the aisle like a pageant queen but i know you wish it was me you wish it was me don't you   don't say yes run away now i'll meet you when you're out of the church at the back door don't wait or say a single vow your silence is my choice and this is how i know you will be great anyway  interlude ooh ladadada oh ooh yeah ooh ooh yeah   don't say yes run away now i'll meet you when you're out of the church at the back door don't wait or say a single vow your silence is my choice and this is how i know you will be great anyway   and this is how i know you will be "
          },
          "metadata": {}
        }
      ]
    },
    {
      "cell_type": "code",
      "source": [
        "gemma_qa.query(\"Katy Perry\")"
      ],
      "metadata": {
        "colab": {
          "base_uri": "https://localhost:8080/",
          "height": 70
        },
        "id": "p-c4ou0HJYlT",
        "outputId": "6996a416-c64b-44f5-9499-4e5bf07505de"
      },
      "execution_count": null,
      "outputs": [
        {
          "output_type": "display_data",
          "data": {
            "text/plain": [
              "<IPython.core.display.Markdown object>"
            ],
            "text/markdown": "\n\nGive me a song in style of artist Katy Perry\n\n\nSong:\nlyrics for this song have yet to be released please check back once the song has been released"
          },
          "metadata": {}
        }
      ]
    },
    {
      "cell_type": "code",
      "source": [
        "gemma_qa.query(\"Ed Sheeran\")"
      ],
      "metadata": {
        "colab": {
          "base_uri": "https://localhost:8080/",
          "height": 191
        },
        "id": "bIuEUD-tJd0e",
        "outputId": "59f968e4-9f24-41f3-ae87-e29a1fb1a4b1"
      },
      "execution_count": null,
      "outputs": [
        {
          "output_type": "display_data",
          "data": {
            "text/plain": [
              "<IPython.core.display.Markdown object>"
            ],
            "text/markdown": "\n\nGive me a song in style of artist Ed Sheeran\n\n\nSong:\nwhen your day is long and the night the clouds are crying i hope you understand it's not me to be the heart of the other we are one buzzing ong and the night's dark but i hope you understand it's me you're the love that we share and baby it'll save you  when your day is long and the night's dark you know i hope you understand it's not me to be the heart of the other we are one buzzingong and the night's dark but i hope you understand it's not me to be the heart of the other we are one buzzingong and the night's dark but i hope you understand  my favorite days are still waiting come back to your breath and you'll be in my bed when the night ends when you're home there's always a little part of me that you will miss  and when your day is long and the night's dark you know i hope you understand it's not me to be the heart of the other we are one buzzingong and the night's dark but i hope you understand it's not me to be the heart of the other we are one buzzingong and the night's dark but i hope you understand it's not me to be the heart of the other we are one buzzingong and the night's dark but i hope you understand it's not me to be the heart of the other we are one buzzingong and the night's dark but i hope you understand now"
          },
          "metadata": {}
        }
      ]
    },
    {
      "cell_type": "code",
      "source": [
        "gemma_qa.query(\"Taylor Swift\")"
      ],
      "metadata": {
        "colab": {
          "base_uri": "https://localhost:8080/",
          "height": 209
        },
        "id": "ewAbZc_hKVYH",
        "outputId": "2f7da683-b9b3-4301-bf62-0bcf0af6e656"
      },
      "execution_count": null,
      "outputs": [
        {
          "output_type": "display_data",
          "data": {
            "text/plain": [
              "<IPython.core.display.Markdown object>"
            ],
            "text/markdown": "\n\nGive me a song in style of artist Taylor Swift\n\n\nSong:\ni like the way you wanted me every night for so long baby i like the way you needed me every night the way the way the way you needed me every time the way the way you needed me   i like your style in your jeans your words the way you smile the way you make me feel and i like it off again 'cause boy you're just a different girl when you're mine   i like that you had your chance to make me want you every night and you wouldn't believe me if i was wrong and i was wrong but baby don't make me this way again i'd never let you go again i'd never let you go again   you were wrong but baby i like the way you'd hold me every night and baby i like the way you'd make me feel and i like it off again i used to think your love was real and i still love you baby i like the way you'd give me every time you needed me every time the way the way you needed me   i like your style in your jeans your words the way you smile the way you make me feel and i like it off again 'cause boy you're just a different girl when you're mine   you had your chance to make me want you every night and you wouldn't believe me if i was wrong and i was wrong but baby don't make me this way again i'd never let you go again again i'd never let you go again  i like your style in your jeans your words the way you look at me when you're mine   i like your body your body your body and all i like 'cause you had your chance to make "
          },
          "metadata": {}
        }
      ]
    },
    {
      "cell_type": "code",
      "source": [
        "gemma_qa.query(\"Selena Gomez\")"
      ],
      "metadata": {
        "colab": {
          "base_uri": "https://localhost:8080/",
          "height": 226
        },
        "id": "IwTbn-p5KaQF",
        "outputId": "960ad488-6ba3-4aa9-e0e3-6c086b3d2327"
      },
      "execution_count": null,
      "outputs": [
        {
          "output_type": "display_data",
          "data": {
            "text/plain": [
              "<IPython.core.display.Markdown object>"
            ],
            "text/markdown": "\n\nGive me a song in style of artist Selena Gomez\n\n\nSong:\nselena gomez take away your things and go you can't take back what you said i know i've heard it all before at least a million times i'm not one to forget you know  pre  selena gomez i don't believe i don't believe it you left in peace left me in pieces too hard to breathe i'm on my knees right now   selena gomez with charli xcx im so sick of that same old love that shit it tears me up im so sick of that same old love the kind that breaks your heart ohoh that same old love ohoh that same old love im so sick of that same old love feels like i've blown apartup boy im so sick of that same old love the kind that breaks your heart ohoh that same old love im so sick of that same old love the kind that breaks your heart ohoh that same old love im so sick of that same old love feels like i've blown apartup boy im so sick of that same old love the kind that breaks your heart ohoh that same old love   selena gomez i'm not spending any time wasting tonight on you i know i've heard it all so don't you try and change your mind cause i won't be changing too you know  pre  selena gomez you can't believe still can't believe it you left in peace left me in pieces too hard to breathe i'm on my knees right now 'ow   selena gomez with charli xcx im so sick of that same old love that shit it tears me up im so sick of that same old love the kind that breaks your heart ohoh that same old love im so sick of that same old love feels like i've blown apart im so sick of that same old love the kind that breaks your heart ohoh that halo that "
          },
          "metadata": {}
        }
      ]
    },
    {
      "cell_type": "code",
      "source": [
        "gemma_qa.query(\"Charlie Puth\")"
      ],
      "metadata": {
        "colab": {
          "base_uri": "https://localhost:8080/",
          "height": 156
        },
        "id": "0_KxkcLlKclB",
        "outputId": "daf0a775-1300-4046-9290-cc15ea9aaf3e"
      },
      "execution_count": null,
      "outputs": [
        {
          "output_type": "display_data",
          "data": {
            "text/plain": [
              "<IPython.core.display.Markdown object>"
            ],
            "text/markdown": "\n\nGive me a song in style of artist Charlie Puth\n\n\nSong:\noh darling i know you miss your smile always ending up in his arms around you you know it's always laughing and loving you and i guess i'm a fool who's willing to sit around and wait for you but baby don't mind   we never said goodbye so i'll just walk away when you're out of the woods i never told you about me but baby don't mind   you say it's over and we're taking our time taking our time and i say babe never again   we never said goodbye so i'll just walk away when you're out of the woods i never told you about me but baby don't mind we never said goodbye so i'll just walk away walk away walk away   it was a long time coming 'round and 'round i was thinking 'bout you when i saw you there but baby don't mind   we never said goodbye so i'll just walk away when you're out of the woods i never told you about me but baby don't mind we never said goodbye so i'll just walk away walk away walk away"
          },
          "metadata": {}
        }
      ]
    },
    {
      "cell_type": "code",
      "source": [
        "gemma_qa.query(\"Malay Damani\")"
      ],
      "metadata": {
        "colab": {
          "base_uri": "https://localhost:8080/",
          "height": 226
        },
        "id": "MzEgc3oVKgZu",
        "outputId": "ea733180-1843-4a95-df47-f5fb42f8579b"
      },
      "execution_count": null,
      "outputs": [
        {
          "output_type": "display_data",
          "data": {
            "text/plain": [
              "<IPython.core.display.Markdown object>"
            ],
            "text/markdown": "\n\nGive me a song in style of artist Malay Damani\n\n\nSong:\nwhen you feel the world is crashing all around your feet when you feel the world is crashing all around your feet you feel the weightless i'm a survivor from a survivor so nothing's shatterproof you'll get your long shot just from a second to a perfect one   your feet off the ground you're caught in the middle of every step i make you believe i'm brave and i'm not wearing my best apology you needed to hear me out you never call out my name and that was a shame 'cause i thought you changed   do you remember the day i called you mine you called it mine and there was nothing like you then you looked me in the eye and told me i was brave and i fought to fight to stay alive and i stormed out of every single room in the kingdom of gods pull your fight back and you looked at me in the eye and told me it's a dream because i thought it was born from holding the same tiny heart   do you remember the days we called you mine you called it mine and there was nothing like you then you looked me in the eye and told me i was brave and i fought to stay alive and i stormed out of every single room in the kingdom of gods pull your fight back and you looked at me in the eye and told me it's a dream because i thought it was born from holding the same tiny heart   do you remember the days we called you mine and there was nothing like you then you looked me in the eye and told me i was brave and i fought to stay alive and i stormed out of every single room in the kingdom of gods"
          },
          "metadata": {}
        }
      ]
    },
    {
      "cell_type": "code",
      "source": [
        "gemma_qa.query(\"Adolf Hitler\")"
      ],
      "metadata": {
        "colab": {
          "base_uri": "https://localhost:8080/",
          "height": 209
        },
        "id": "Rbgye8yVKhjm",
        "outputId": "3e253280-4804-45cf-d8e9-adb5cd87b4f0"
      },
      "execution_count": null,
      "outputs": [
        {
          "output_type": "display_data",
          "data": {
            "text/plain": [
              "<IPython.core.display.Markdown object>"
            ],
            "text/markdown": "\n\nGive me a song in style of artist Adolf Hitler\n\n\nSong:\ni was in the backseat drunk on something stronger than the drinks in the bar i rent a place on cornelia street i say casually in the car we were a fresh page on the desk filling in the blanks as we go as if the street lights pointed in an arrow head leading us home   and i hope your mind picture us in the afterglow and i hope your heart can't ignore the colors and the life is a scrimmage i'd be your best friend whoever you play and i hope your mom don't someday fall and miss you like i do   the afterglow was the night when the sky was falling down with the waves you held my head up in your hands and our winds blew down like a perfect storm   and i hope your mind picture us in the afterglow and i hope your heart can't ignore the colors and the life is a scrimmage i'd be your best friend anybody you play and i hope your mom don't someday fall and miss you like i do   the afterglow was the night when the sky was falling down with the waves you held my head up in your hands and our winds blew down like a perfect storm   and i hope your mind picture us in the afterglow and i hope your heart can't ignore the colors and the life is a scrimmage i'd be your best friend whoever you play and i hope your mom don't someday fall and miss you like i do   i hope your heart can't ignore the colors and the life is a scrimmage i'd be your best friend whoever you play and i hope your mom don't someday fall and miss you like i do"
          },
          "metadata": {}
        }
      ]
    },
    {
      "cell_type": "code",
      "source": [
        "gemma_qa.query(\"Mahatama Gandhi\")"
      ],
      "metadata": {
        "colab": {
          "base_uri": "https://localhost:8080/",
          "height": 209
        },
        "id": "IXRdB0vbL4wG",
        "outputId": "333fe054-8090-4853-e6ff-8f8a1006da2e"
      },
      "execution_count": null,
      "outputs": [
        {
          "output_type": "display_data",
          "data": {
            "text/plain": [
              "<IPython.core.display.Markdown object>"
            ],
            "text/markdown": "\n\nGive me a song in style of artist Mahatama Gandhi\n\n\nSong:\ni used to think one day we'd tell the story of us how we met and the sparks flew instantly and people would say they're the lucky ones i used to know my place was a spot next to you now i'm searching the room for an empty seat lately i don't even know what page you're on  pre  oh a simple complication miscommunications lead to fallout so many things that i wish you knew so many walls up i can't break through   now i'm standing alone in a crowded room and we're not speaking and i'm dying to know is it killing you like it's killing me yeah i don't know what to say since the twist of fate when it all broke down and the story of us looks a lot like a tragedy now next chapter   how'd we end up this way see me nervously pulling at my clothes and trying to look busy and you're doing your best to avoid me i'm starting to think one day i'll tell the story of us of how i was losing my mind when i saw you here but you held your pride like you should've held me  pre  oh i'm scared to see the ending why are we pretending this is nothing i'd tell you i miss you but i don't know how i've never heard silence quite this loud   now i'm standing alone in a crowded room and we're not speaking and i'm dying to know is it killing you like it's killing me yeah and i don't know what to say since the twist of fate when it all broke down and the story of us looks a lot like a tragedy now   this is looking like a contest of who can act lik"
          },
          "metadata": {}
        }
      ]
    },
    {
      "cell_type": "code",
      "source": [
        "gemma_qa.query(\"Peace\")"
      ],
      "metadata": {
        "colab": {
          "base_uri": "https://localhost:8080/",
          "height": 139
        },
        "id": "FkfJbtABL-1g",
        "outputId": "2c39fe4c-0ed1-447a-8830-ae99505f3139"
      },
      "execution_count": null,
      "outputs": [
        {
          "output_type": "display_data",
          "data": {
            "text/plain": [
              "<IPython.core.display.Markdown object>"
            ],
            "text/markdown": "\n\nGive me a song in style of artist Peace\n\n\nSong:\ni'm gonna marry the night i wont make it too late for you to go   i'm gonna marry the night i wont make it too late for you to go i'm gonna marry the night i don't make it too late for you to go   break   i'm gonna marry the night i wont make it too late for you to go i'm gonna marry the night i dont make it too late for you to go  post mamamarry mamamarry mamamarry mamamarry   i'm gonna lace up my shoes throw on your skin cause i dont want you anymore i'm gonna marry the night i dont make it too late for you to go   i'm gonna marry the night i wont make it too late for you to go i'm gonna marry the night i dont make it too late for you to go  post mamamarry mamamarry mamamarry   i'm gonna marry the night i wont make it too late for you to go"
          },
          "metadata": {}
        }
      ]
    },
    {
      "cell_type": "code",
      "source": [
        "gemma_qa.query(\"War\")"
      ],
      "metadata": {
        "colab": {
          "base_uri": "https://localhost:8080/",
          "height": 226
        },
        "id": "zwGqlTt4MW4I",
        "outputId": "ab555aa4-e5d3-4b0e-e3f2-19d2d5d5adda"
      },
      "execution_count": null,
      "outputs": [
        {
          "output_type": "display_data",
          "data": {
            "text/plain": [
              "<IPython.core.display.Markdown object>"
            ],
            "text/markdown": "\n\nGive me a song in style of artist War\n\n\nSong:\ni'm so glad you made time to see me how's life tell me how's your family i haven't seen them in a while you've been good busier than ever we small talk work and the weather your guard is up and i know why  pre because the last time you saw me is still burned in the back of your mind you gave me roses and i left them there to die   so this is me swallowing my pride standing in front of you saying i'm sorry for that night and i'd go back to december all the time it turns out freedom aint nothing but missing you wishing i'd realized what i had when you were mine   these days i haven't been sleeping staying up playing back myself leaving when your birthday passed and i didn't call you and i think about summer all the beautiful times i watched you laughing from the passenger side and realized it was just a summer breeze blowing in the wind and i realized  pre and then the last time i saw you was still burned in the back of your mind you gave me roses and i left them there to die   so this is me swallowing my pride standing in front of you saying i'm sorry for that night and i'd go back to december all the time it turns out freedom aint nothing but missing you wishing i'd realized what i had when you were mine   i miss your tan skin your sweet smile so good to me so right and how you he kissed my lips my mother and i left you all here tonight and i'm so mad right now cause you took everything from me watching you go   so this is me swallowing my pride standing in front of you saying i'm sorry for that night and i'd go back to december all the"
          },
          "metadata": {}
        }
      ]
    },
    {
      "cell_type": "code",
      "source": [
        "gemma_qa.query(\"Dick in yo pussy\")"
      ],
      "metadata": {
        "colab": {
          "base_uri": "https://localhost:8080/",
          "height": 191
        },
        "id": "pqK7i2LHMXzN",
        "outputId": "9bd36787-bb5f-4b48-c8e6-ebe31cbdeefd"
      },
      "execution_count": null,
      "outputs": [
        {
          "output_type": "display_data",
          "data": {
            "text/plain": [
              "<IPython.core.display.Markdown object>"
            ],
            "text/markdown": "\n\nGive me a song in style of artist Dick in yo pussy\n\n\nSong:\ni was good on my own that's the way it was that's the way it was you was good on the low for a faded ass dress to wear around your six feet tall i was good on my own that's the way it was  pre and i didn't have to look very good to you after you walked out of the door i just thought hey you would need me 'cause ain't no way you would have me here   but it's been a long time coming and i'm not just sprung i've never seen a chick like that it's such a shame that a girl like me does not have a man like me and i don't owe you a mothafuckin' thing honey   you were good on your own that's the way it was you was good on the low for a fadedass dress to wear around your six feet tall i was good on my own that's the way it was you was good on your own the low for a faded ass dress to wear around your six feet tall i was good on my own that's the way it was  pre and i didn't have to look very good to you after you walked out of the door i just thought hey you would need me 'cause ain't no way you would have me here   but it's been a long time coming and i'm not just sprung i've never seen a chick like that it's such a shame that a girl like me does not have a man like me and i don't owe you a mothafuckin' thing honey   i was good on my own tha"
          },
          "metadata": {}
        }
      ]
    },
    {
      "cell_type": "code",
      "source": [],
      "metadata": {
        "id": "35Wbq_xsMe05"
      },
      "execution_count": null,
      "outputs": []
    }
  ]
}