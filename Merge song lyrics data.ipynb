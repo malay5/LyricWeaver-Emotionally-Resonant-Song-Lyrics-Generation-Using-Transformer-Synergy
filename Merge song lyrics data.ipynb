{
 "cells": [
  {
   "cell_type": "code",
   "execution_count": 1,
   "id": "5ce9f481",
   "metadata": {},
   "outputs": [],
   "source": [
    "import pandas as pd\n",
    "import numpy as np"
   ]
  },
  {
   "cell_type": "code",
   "execution_count": 2,
   "id": "55abb1b0",
   "metadata": {},
   "outputs": [],
   "source": [
    "import os"
   ]
  },
  {
   "cell_type": "code",
   "execution_count": 4,
   "id": "68974421",
   "metadata": {},
   "outputs": [
    {
     "name": "stdout",
     "output_type": "stream",
     "text": [
      " Volume in drive D is Data\n",
      " Volume Serial Number is 7EEF-BD7C\n",
      "\n",
      " Directory of D:\\IIITH\\SEM2\\inlp\\project_song_lyrics\n",
      "\n",
      "31-03-2025  05:27    <DIR>          .\n",
      "31-03-2025  05:27    <DIR>          ..\n",
      "31-03-2025  05:27    <DIR>          .ipynb_checkpoints\n",
      "27-03-2025  12:41     3,263,274,583 archive.zip\n",
      "27-03-2025  19:26    <DIR>          kaggle-dataset-on\n",
      "27-03-2025  17:04                67 kaggle.json\n",
      "31-03-2025  05:20    <DIR>          Poems Dataset (NLP)\n",
      "27-03-2025  12:38        16,279,790 Poems Dataset (NLP).zip\n",
      "31-03-2025  05:15    <DIR>          Song Lyrics Dataset\n",
      "27-03-2025  12:35        20,821,495 Song Lyrics Dataset.zip\n",
      "31-03-2025  05:27                72 Untitled.ipynb\n",
      "27-03-2025  12:34    <DIR>          v1\n",
      "               5 File(s)  3,300,376,007 bytes\n",
      "               7 Dir(s)  308,646,227,968 bytes free\n"
     ]
    }
   ],
   "source": [
    "!dir"
   ]
  },
  {
   "cell_type": "code",
   "execution_count": 8,
   "id": "19e0c023",
   "metadata": {},
   "outputs": [],
   "source": [
    "folder_path=\"Song Lyrics Dataset/csv\""
   ]
  },
  {
   "cell_type": "code",
   "execution_count": 9,
   "id": "e6b23ca7",
   "metadata": {},
   "outputs": [
    {
     "data": {
      "text/plain": [
       "['ArianaGrande.csv',\n",
       " 'Beyonce.csv',\n",
       " 'BillieEilish.csv',\n",
       " 'BTS.csv',\n",
       " 'CardiB.csv',\n",
       " 'CharliePuth.csv',\n",
       " 'ColdPlay.csv',\n",
       " 'Drake.csv',\n",
       " 'DuaLipa.csv',\n",
       " 'EdSheeran.csv',\n",
       " 'Eminem.csv',\n",
       " 'JustinBieber.csv',\n",
       " 'KatyPerry.csv',\n",
       " 'Khalid.csv',\n",
       " 'LadyGaga.csv',\n",
       " 'Maroon5.csv',\n",
       " 'NickiMinaj.csv',\n",
       " 'PostMalone.csv',\n",
       " 'Rihanna.csv',\n",
       " 'SelenaGomez.csv',\n",
       " 'TaylorSwift.csv']"
      ]
     },
     "execution_count": 9,
     "metadata": {},
     "output_type": "execute_result"
    }
   ],
   "source": [
    "all_files = [f for f in os.listdir(folder_path) if f.endswith('.csv')]\n",
    "all_files"
   ]
  },
  {
   "cell_type": "code",
   "execution_count": 10,
   "id": "39bfd84f",
   "metadata": {},
   "outputs": [],
   "source": [
    "# for i in all_files:\n",
    "#     df=pd.read_csv(\"ArianaGrande.csv\")\n",
    "merged_df = pd.concat((pd.read_csv(os.path.join(folder_path, file)) for file in all_files), ignore_index=True)"
   ]
  },
  {
   "cell_type": "code",
   "execution_count": 13,
   "id": "ba35c612",
   "metadata": {},
   "outputs": [
    {
     "data": {
      "text/plain": [
       "\"thought i'd end up with sean but he wasn't a match wrote some songs about ricky now i listen and laugh even almost got married and for pete i'm so thankful wish i could say thank you to malcolm 'cause he was an angel  pre one taught me love one taught me patience and one taught me pain now i'm so amazing say i've loved and i've lost but that's not what i see so look what i got look what you taught me and for that i say   thank you next next thank you next next thank you next i'm so fuckin' grateful for my ex thank you next next thank you next next thank you next next i'm so fuckin'   spend more time with my friends i ain't worried 'bout nothin' plus i met someone else we havin' better discussions i know they say i move on too fast but this one gon' last 'cause her name is ari and i'm so good with that so good with that  pre she taught me love love she taught me patience patience how she handles pain pain that shit's amazing yeah she's amazing i've loved and i've lost yeah yeah but that's not what i see yeah yeah 'cause look what i've found yeah yeah ain't no need for searching and for that i say   thank you next thank you next thank you next thank you next thank you next thank you i'm so fuckin' grateful for my ex thank you next thank you next thank you next said thank you next thank you next next i'm so fuckin' grateful for my ex  post thank you next thank you next thank you next i'm so fuckin'   one day i'll walk down the aisle holding hands with my mama i'll be thanking my dad 'cause she grew from the drama only wanna do it once real bad gon' make that shit last god forbid something happens least this song is a smash song is a smash  pre i've got so much love love got so much patience patience and i've learned from the pain pain i turned out amazing turned out amazing say i've loved and i've lost yeah yeah but that's not what i see yeah yeah 'cause look what i've found yeah yeah ain't no need for searching and for that i say   thank you next thank you next thank you next thank you next thank you next i'm so fuckin' grateful for my ex thank you next thank you next thank you next said thank you next thank you next next i'm so fuckin' grateful for my ex  post thank you next thank you next thank you next yeah yee thank you next thank you next thank you next yeah yee\""
      ]
     },
     "execution_count": 13,
     "metadata": {},
     "output_type": "execute_result"
    }
   ],
   "source": [
    "merged_df.iloc[0,4]"
   ]
  },
  {
   "cell_type": "code",
   "execution_count": 15,
   "id": "0084f9a2",
   "metadata": {},
   "outputs": [],
   "source": [
    "merged_df.to_csv(\"MERGED_SONG_LYRIC_DATA.csv\")"
   ]
  },
  {
   "cell_type": "code",
   "execution_count": null,
   "id": "cffe1389",
   "metadata": {},
   "outputs": [],
   "source": []
  }
 ],
 "metadata": {
  "kernelspec": {
   "display_name": "Python 3",
   "language": "python",
   "name": "python3"
  },
  "language_info": {
   "codemirror_mode": {
    "name": "ipython",
    "version": 3
   },
   "file_extension": ".py",
   "mimetype": "text/x-python",
   "name": "python",
   "nbconvert_exporter": "python",
   "pygments_lexer": "ipython3",
   "version": "3.8.8"
  }
 },
 "nbformat": 4,
 "nbformat_minor": 5
}
